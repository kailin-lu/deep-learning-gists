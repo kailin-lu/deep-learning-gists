{
 "cells": [
  {
   "cell_type": "markdown",
   "metadata": {},
   "source": [
    "#### Gain a better understanding of LSTM cells by doing a basic implementation in numpy without considering performance. "
   ]
  },
  {
   "cell_type": "code",
   "execution_count": 1,
   "metadata": {
    "collapsed": true
   },
   "outputs": [],
   "source": [
    "import numpy as np\n",
    "import tensorflow as tf"
   ]
  },
  {
   "cell_type": "markdown",
   "metadata": {},
   "source": [
    "A single LSTM Cell"
   ]
  },
  {
   "cell_type": "code",
   "execution_count": 2,
   "metadata": {},
   "outputs": [],
   "source": [
    "def sigmoid(x): \n",
    "    return 1/ (1+np.exp(-x))\n",
    "\n",
    "class LSTMCell(): \n",
    "    def __init__(self, x, c, h, W=None, b=None):\n",
    "        self.x = x \n",
    "        self.c = c\n",
    "        self.h = h \n",
    "        self.W = W\n",
    "        self.b = b\n",
    "        self.concat = np.concatenate([self.x, self.h], axis=1)\n",
    "        \n",
    "    def call(self): \n",
    "        # arr has dimensions [x.shape[0], c.shape[1]*4]\n",
    "        arr = np.matmul(self.concat, self.W) + self.b\n",
    "        \n",
    "        # input, new_c, forget, output\n",
    "        i, j, f, o = np.split(arr, 4, axis=1)\n",
    "        \n",
    "        # Calculate new c and h \n",
    "        # Operations are pointwise \n",
    "        new_c = (self.c * sigmoid(f)) + (sigmoid(i) * np.tanh(j))\n",
    "        self.h = np.tanh(new_c) * sigmoid(o)\n",
    "        self.c = new_c\n",
    "        return self.c, self.h"
   ]
  },
  {
   "cell_type": "markdown",
   "metadata": {},
   "source": [
    "Set initial states"
   ]
  },
  {
   "cell_type": "code",
   "execution_count": 3,
   "metadata": {},
   "outputs": [],
   "source": [
    "tf.reset_default_graph()\n",
    "x = tf.constant([[1,1]], dtype=tf.float32) \n",
    "c = tf.constant([[.1,.1]], dtype=tf.float32) \n",
    "h = tf.constant([[.3,.5]], dtype=tf.float32)"
   ]
  },
  {
   "cell_type": "markdown",
   "metadata": {},
   "source": [
    "Run in Tensorflow to check work"
   ]
  },
  {
   "cell_type": "code",
   "execution_count": 4,
   "metadata": {},
   "outputs": [
    {
     "name": "stdout",
     "output_type": "stream",
     "text": [
      "Expected c: [[-0.08290453 -0.21169293]]\n",
      "Expected h: [[-0.02955644 -0.0449947 ]]\n"
     ]
    }
   ],
   "source": [
    "cell = tf.contrib.rnn.BasicLSTMCell(num_units=2,  \n",
    "                                    forget_bias=1.0, \n",
    "                                    state_is_tuple=True)\n",
    "state = (c,h)\n",
    "outputs, states = cell(x, state)\n",
    "init = tf.global_variables_initializer()\n",
    "with tf.Session() as sess: \n",
    "    sess.run(init)\n",
    "    weights = sess.run(cell.weights)\n",
    "    expected_c = sess.run(states.c)\n",
    "    expected_output = sess.run(states.h)\n",
    "    print('Expected c:', expected_c)\n",
    "    print('Expected h:', expected_output)"
   ]
  },
  {
   "cell_type": "markdown",
   "metadata": {},
   "source": [
    "Run the manual LSTM Cell"
   ]
  },
  {
   "cell_type": "code",
   "execution_count": 6,
   "metadata": {},
   "outputs": [
    {
     "name": "stdout",
     "output_type": "stream",
     "text": [
      "Manual c: [[-0.10680572 -0.23565682]]\n",
      "Manual h: [[-0.03802023 -0.04991358]]\n"
     ]
    }
   ],
   "source": [
    "# Use the same weights initialized in the Tensorflow LSTMCell \n",
    "W,b = weights \n",
    "\n",
    "x = np.array([[1.,1.]])\n",
    "c = np.array([[.1,.1]])\n",
    "h = np.array([[.3,.5]])\n",
    "\n",
    "manual_cell = LSTMCell(x, c, h, W, b)\n",
    "c, h = manual_cell.call()\n",
    "\n",
    "# End up with close-ish results \n",
    "print('Manual c:', c)\n",
    "print('Manual h:', h) "
   ]
  }
 ],
 "metadata": {
  "kernelspec": {
   "display_name": "Python 3",
   "language": "python",
   "name": "python3"
  },
  "language_info": {
   "codemirror_mode": {
    "name": "ipython",
    "version": 3
   },
   "file_extension": ".py",
   "mimetype": "text/x-python",
   "name": "python",
   "nbconvert_exporter": "python",
   "pygments_lexer": "ipython3",
   "version": "3.6.5"
  }
 },
 "nbformat": 4,
 "nbformat_minor": 2
}
