{
 "cells": [
  {
   "cell_type": "code",
   "execution_count": 1,
   "metadata": {
    "collapsed": true
   },
   "outputs": [],
   "source": [
    "import numpy as np\n",
    "import matplotlib.pyplot as plt \n",
    "from matplotlib import cm, animation, rc\n",
    "from mpl_toolkits.mplot3d import Axes3D\n",
    "from IPython.display import HTML, Image\n",
    "\n",
    "%matplotlib inline"
   ]
  },
  {
   "cell_type": "code",
   "execution_count": 2,
   "metadata": {},
   "outputs": [
    {
     "name": "stdout",
     "output_type": "stream",
     "text": [
      "\u001b[33mWarning:\u001b[0m imagemagick 7.0.8-11 is already installed and up-to-date\r\n",
      "To reinstall 7.0.8-11, run `brew reinstall imagemagick`\r\n"
     ]
    }
   ],
   "source": [
    "rc('animation', html='html5')\n",
    "!brew install imagemagick"
   ]
  },
  {
   "cell_type": "markdown",
   "metadata": {},
   "source": [
    "### Algorithm\n",
    "\n",
    "Objective: Find $argmin$ $f(x)$ where $f: \\mathbb{R^n} \\mapsto \\mathbb{R}$.\n",
    "\n",
    "**Initialize:** $x^0, \\epsilon, \\alpha$\n",
    "\n",
    "While $|x_{n} - x_{n-1}| > \\epsilon$ :\n",
    "\n",
    "Update $x_n = x_{n-1} - \\alpha \\nabla f(x_{n-1})$"
   ]
  },
  {
   "cell_type": "markdown",
   "metadata": {},
   "source": [
    "#### A simple example in one dimension\n",
    "\n",
    "Find the minimum of $ y = x^2 $. \n",
    "\n",
    "$$\\frac{dy}{dx} = 2x $$ \n",
    "\n",
    "$$x_n < x_{n-1} - \\alpha 2x_{n}$$"
   ]
  },
  {
   "cell_type": "code",
   "execution_count": 3,
   "metadata": {
    "collapsed": true
   },
   "outputs": [],
   "source": [
    "%%capture \n",
    "\n",
    "# Define xrange, function, derivative \n",
    "x = np.arange(-5,5,.1)\n",
    "y = lambda x: x ** 2   \n",
    "dydx = lambda x: 2*x   \n",
    "\n",
    "def gradient_descent(alpha, tolerance=None, iterations=None):\n",
    "    # Initialize\n",
    "    xvals = [x[0]] \n",
    "    yvals = [y(xvals[0])]\n",
    "    xnew = xvals[-1] - alpha*dydx(xvals[-1])\n",
    "    xcurrent = xvals[-1]\n",
    "    \n",
    "    if tolerance is not None:\n",
    "        while abs(xcurrent - xnew) > tolerance:\n",
    "            yvals.append(y(xcurrent))\n",
    "            xvals.append(xcurrent)\n",
    "            xcurrent = xnew\n",
    "            xnew = xcurrent - alpha * dydx(xcurrent)\n",
    "    else: \n",
    "        for _ in range(iterations):\n",
    "            yvals.append(y(xcurrent))\n",
    "            xvals.append(xcurrent)\n",
    "            xcurrent = xnew\n",
    "            xnew = xcurrent - alpha * dydx(xcurrent)\n",
    "    return xvals, yvals\n",
    "\n",
    "alpha =.1\n",
    "tolerance = .01\n",
    "\n",
    "xvals, yvals = gradient_descent(alpha, tolerance)\n",
    "\n",
    "# Figure setup \n",
    "fig, ax = plt.subplots()\n",
    "ax.plot(x,y(x), lw=2, label='y**2')\n",
    "\n",
    "ax.set(xlim=(-5, 5), ylim=(-2, 30))\n",
    "line, = ax.plot([],[], lw=1, marker='.', ms=5, mfc='red', c='red', label='estimation')\n",
    "plt.legend()"
   ]
  },
  {
   "cell_type": "code",
   "execution_count": 4,
   "metadata": {
    "collapsed": true
   },
   "outputs": [],
   "source": [
    "def animate(i):\n",
    "    line.set_data(xvals[:i], yvals[:i])\n",
    "    \n",
    "anim = animation.FuncAnimation(fig, animate, interval=200, frames=len(yvals), repeat=True)\n",
    "anim.save('images/gradient-descent.gif', writer='imagemagick',fps=5)"
   ]
  },
  {
   "cell_type": "code",
   "execution_count": 5,
   "metadata": {},
   "outputs": [
    {
     "data": {
      "text/html": [
       "<img src=\"images/gradient-descent.gif\"/>"
      ],
      "text/plain": [
       "<IPython.core.display.Image object>"
      ]
     },
     "execution_count": 5,
     "metadata": {},
     "output_type": "execute_result"
    }
   ],
   "source": [
    "Image(url='images/gradient-descent.gif')"
   ]
  },
  {
   "cell_type": "markdown",
   "metadata": {},
   "source": [
    "If the learning rate $\\alpha$ is set to be high, then the algorithm will take larger steps."
   ]
  },
  {
   "cell_type": "code",
   "execution_count": 6,
   "metadata": {
    "collapsed": true
   },
   "outputs": [],
   "source": [
    "%%capture \n",
    "\n",
    "alpha = .8 \n",
    "xvals, yvals = gradient_descent(alpha, iterations=50)\n",
    "\n",
    "# Figure setup \n",
    "fig, ax = plt.subplots()\n",
    "ax.plot(x,y(x), lw=2, label='y**2')\n",
    "\n",
    "ax.set(xlim=(-5, 5), ylim=(-2, 30))\n",
    "line, = ax.plot([],[], lw=1, marker='.', ms=5, mfc='red', c='red', label='estimation')\n",
    "plt.legend()"
   ]
  },
  {
   "cell_type": "code",
   "execution_count": 7,
   "metadata": {
    "collapsed": true,
    "scrolled": true
   },
   "outputs": [],
   "source": [
    "anim = animation.FuncAnimation(fig, animate, interval=50, frames=len(yvals), repeat=True)\n",
    "anim.save('images/gradient-descent-larger-alpha-2d.gif', writer='imagemagick',fps=1)"
   ]
  },
  {
   "cell_type": "code",
   "execution_count": 8,
   "metadata": {},
   "outputs": [
    {
     "data": {
      "text/html": [
       "<img src=\"images/gradient-descent-larger-alpha-2d.gif\"/>"
      ],
      "text/plain": [
       "<IPython.core.display.Image object>"
      ]
     },
     "execution_count": 8,
     "metadata": {},
     "output_type": "execute_result"
    }
   ],
   "source": [
    "Image(url='images/gradient-descent-larger-alpha-2d.gif')"
   ]
  },
  {
   "cell_type": "markdown",
   "metadata": {},
   "source": [
    "If the learning rate $\\alpha$ is set too high the algorithm will diverge. "
   ]
  },
  {
   "cell_type": "code",
   "execution_count": 9,
   "metadata": {
    "collapsed": true
   },
   "outputs": [],
   "source": [
    "%%capture \n",
    "\n",
    "alpha = 1 \n",
    "xvals, yvals = gradient_descent(alpha, iterations=50)\n",
    "\n",
    "# Figure setup \n",
    "fig, ax = plt.subplots()\n",
    "ax.plot(x,y(x), lw=2, label='y**2')\n",
    "\n",
    "ax.set(xlim=(-5, 5), ylim=(-2, 30))\n",
    "line, = ax.plot([],[], lw=1, marker='.', ms=5, mfc='red', c='red', label='estimation')\n",
    "plt.legend()"
   ]
  },
  {
   "cell_type": "code",
   "execution_count": 10,
   "metadata": {},
   "outputs": [
    {
     "data": {
      "text/html": [
       "<img src=\"images/gradient-descent-largest-alpha-2d.gif\"/>"
      ],
      "text/plain": [
       "<IPython.core.display.Image object>"
      ]
     },
     "execution_count": 10,
     "metadata": {},
     "output_type": "execute_result"
    }
   ],
   "source": [
    "anim = animation.FuncAnimation(fig, animate, interval=100, frames=len(yvals), repeat=True)\n",
    "anim.save('images/gradient-descent-largest-alpha-2d.gif', writer='imagemagick',fps=20)\n",
    "Image(url='images/gradient-descent-largest-alpha-2d.gif')"
   ]
  },
  {
   "cell_type": "markdown",
   "metadata": {},
   "source": [
    "### Two dimensional example\n",
    "\n",
    "Let $f(x) = x^2 + y^2$. \n",
    "\n",
    "Calculative derivatives: \n",
    "\n",
    "$$\\frac{df}{dx} = 2x$$\n",
    "\n",
    "$$\\frac{df}{dy} = 2y$$"
   ]
  },
  {
   "cell_type": "code",
   "execution_count": 11,
   "metadata": {
    "collapsed": true
   },
   "outputs": [],
   "source": [
    "%%capture\n",
    "a = np.arange(-1,1,.1)\n",
    "b = np.arange(-1,1,.1)\n",
    "A, B = np.meshgrid(a,b)\n",
    "\n",
    "f = lambda x,y: x**2 + y**2\n",
    "C = f(A,B)\n",
    "fig = plt.figure()\n",
    "ax = fig.add_subplot(111,projection='3d')\n",
    "ax.can_pan()\n",
    "ax.plot_surface(A,B,C, alpha=.5)\n",
    "line, = ax.plot([],[],[], lw=1, marker='.', ms=1, mfc='red', c='red', label='estimation')"
   ]
  },
  {
   "cell_type": "code",
   "execution_count": 12,
   "metadata": {
    "collapsed": true
   },
   "outputs": [],
   "source": [
    "dfdx = lambda x: 2*x\n",
    "dfdy = lambda y: 2*y\n",
    "\n",
    "alpha = .1\n",
    "tolerance_a = .001\n",
    "tolerance_b = .001\n",
    "\n",
    "vals_a = [a[0]] \n",
    "vals_b = [b[0]]\n",
    "vals_c = [f(vals_a[0], vals_b[0])]\n",
    "\n",
    "new_a = vals_a[-1] - alpha*dfdx(vals_a[-1])\n",
    "new_b = vals_b[-1] - alpha*dfdy(vals_b[-1])\n",
    "\n",
    "current_a = vals_a[0]\n",
    "current_b = vals_b[0]\n",
    "\n",
    "while abs(current_a - new_a) > tolerance_a and abs(current_b - new_b) > tolerance_b:\n",
    "    vals_c.append(f(current_a, current_b))\n",
    "    vals_a.append(current_a)\n",
    "    vals_b.append(current_b)\n",
    "    \n",
    "    current_a = new_a\n",
    "    current_b = new_b\n",
    "    \n",
    "    new_a = current_a - alpha * dfdx(current_a)\n",
    "    new_b = current_b - alpha * dfdx(current_b)"
   ]
  },
  {
   "cell_type": "code",
   "execution_count": 14,
   "metadata": {},
   "outputs": [
    {
     "data": {
      "text/html": [
       "<img src=\"images/gradient-descent-3d.gif\"/>"
      ],
      "text/plain": [
       "<IPython.core.display.Image object>"
      ]
     },
     "execution_count": 14,
     "metadata": {},
     "output_type": "execute_result"
    }
   ],
   "source": [
    "%matplotlib notebook\n",
    "def animate(i):\n",
    "    line.set_data(vals_a[:i], vals_b[:i])\n",
    "    line.set_3d_properties(vals_c[:i])\n",
    "    return line\n",
    "    \n",
    "anim = animation.FuncAnimation(fig, animate, interval=100, frames=len(vals_c), repeat=True)\n",
    "anim.save('images/gradient-descent-3d.gif', writer='imagemagick', fps=5)\n",
    "Image(url='images/gradient-descent-3d.gif')"
   ]
  }
 ],
 "metadata": {
  "kernelspec": {
   "display_name": "Python 3",
   "language": "python",
   "name": "python3"
  },
  "language_info": {
   "codemirror_mode": {
    "name": "ipython",
    "version": 3
   },
   "file_extension": ".py",
   "mimetype": "text/x-python",
   "name": "python",
   "nbconvert_exporter": "python",
   "pygments_lexer": "ipython3",
   "version": "3.6.5"
  }
 },
 "nbformat": 4,
 "nbformat_minor": 2
}
